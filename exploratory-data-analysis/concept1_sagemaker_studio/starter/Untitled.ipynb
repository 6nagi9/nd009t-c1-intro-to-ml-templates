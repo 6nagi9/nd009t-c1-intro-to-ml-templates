{
 "cells": [
  {
   "cell_type": "code",
   "execution_count": null,
   "id": "d8069b0e-c07e-4ad3-a6f1-aa25daee2cf4",
   "metadata": {},
   "outputs": [],
   "source": []
  }
 ],
 "metadata": {
  "instance_type": "ml.t3.medium",
  "kernelspec": {
   "display_name": "",
   "name": ""
  },
  "language_info": {
   "name": ""
  }
 },
 "nbformat": 4,
 "nbformat_minor": 5
}
